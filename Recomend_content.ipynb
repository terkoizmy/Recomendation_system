{
  "nbformat": 4,
  "nbformat_minor": 0,
  "metadata": {
    "colab": {
      "name": "Recomend_content.ipynb",
      "provenance": [],
      "collapsed_sections": [],
      "authorship_tag": "ABX9TyOWJ0W2Q9WcPtkj1yB4dZbR",
      "include_colab_link": true
    },
    "kernelspec": {
      "name": "python3",
      "display_name": "Python 3"
    },
    "language_info": {
      "name": "python"
    }
  },
  "cells": [
    {
      "cell_type": "markdown",
      "metadata": {
        "id": "view-in-github",
        "colab_type": "text"
      },
      "source": [
        "<a href=\"https://colab.research.google.com/github/terkoizmy/Recomendation_system/blob/main/Recomend_content.ipynb\" target=\"_parent\"><img src=\"https://colab.research.google.com/assets/colab-badge.svg\" alt=\"Open In Colab\"/></a>"
      ]
    },
    {
      "cell_type": "markdown",
      "metadata": {
        "id": "D1I4Z2nQFZbk"
      },
      "source": [
        "# Wine Recomendation\n",
        "\n",
        "In this implementation, when the user searches for a Wine we will recommend the top 10 similar wine using our wine recommendation system. We will be using an Content-based recommender systems algorithm with TF-idf\n",
        "\n",
        "link data in [Here](https://www.kaggle.com/zynicide/wine-reviews)"
      ]
    },
    {
      "cell_type": "code",
      "metadata": {
        "id": "5uS7M3JqknK9"
      },
      "source": [
        "# Unzip data if you need\n",
        "\n",
        "# !unzip winemag-data_first150k.csv.zip\n",
        "# !ls"
      ],
      "execution_count": 1,
      "outputs": []
    },
    {
      "cell_type": "code",
      "metadata": {
        "colab": {
          "base_uri": "https://localhost:8080/"
        },
        "id": "d6oStZJPo5x9",
        "outputId": "3e049a3e-ab4c-48f5-ada3-a44a90b17806"
      },
      "source": [
        "import pandas as pd\n",
        "import numpy as np\n",
        "from sklearn.metrics.pairwise import cosine_similarity\n",
        "from sklearn.feature_extraction.text import TfidfVectorizer\n",
        "import nltk\n",
        "import re\n",
        "import random\n",
        "nltk.download('stopwords')\n",
        "from nltk.corpus import stopwords\n",
        "from nltk.stem.porter import PorterStemmer"
      ],
      "execution_count": 2,
      "outputs": [
        {
          "output_type": "stream",
          "name": "stdout",
          "text": [
            "[nltk_data] Downloading package stopwords to /root/nltk_data...\n",
            "[nltk_data]   Package stopwords is already up-to-date!\n"
          ]
        }
      ]
    },
    {
      "cell_type": "code",
      "metadata": {
        "id": "7_BBVLrIpKqj"
      },
      "source": [
        "df = pd.read_csv(\"winemag-data_first150k.csv\")"
      ],
      "execution_count": 27,
      "outputs": []
    },
    {
      "cell_type": "code",
      "metadata": {
        "id": "3DPUodTLpbL9"
      },
      "source": [
        "dataset = df[[\"country\",\"designation\",\"description\"]]\n",
        "dataset = dataset.dropna()\n",
        "dataset.drop_duplicates(subset =\"designation\",\n",
        "                     keep = False, inplace = True)"
      ],
      "execution_count": 28,
      "outputs": []
    },
    {
      "cell_type": "code",
      "metadata": {
        "colab": {
          "base_uri": "https://localhost:8080/",
          "height": 419
        },
        "id": "lYdPPbFy_bwm",
        "outputId": "203c7874-e4f9-45b4-9177-b834a08a9adf"
      },
      "source": [
        "dataset"
      ],
      "execution_count": 30,
      "outputs": [
        {
          "output_type": "execute_result",
          "data": {
            "text/html": [
              "<div>\n",
              "<style scoped>\n",
              "    .dataframe tbody tr th:only-of-type {\n",
              "        vertical-align: middle;\n",
              "    }\n",
              "\n",
              "    .dataframe tbody tr th {\n",
              "        vertical-align: top;\n",
              "    }\n",
              "\n",
              "    .dataframe thead th {\n",
              "        text-align: right;\n",
              "    }\n",
              "</style>\n",
              "<table border=\"1\" class=\"dataframe\">\n",
              "  <thead>\n",
              "    <tr style=\"text-align: right;\">\n",
              "      <th></th>\n",
              "      <th>country</th>\n",
              "      <th>designation</th>\n",
              "      <th>description</th>\n",
              "    </tr>\n",
              "  </thead>\n",
              "  <tbody>\n",
              "    <tr>\n",
              "      <th>1</th>\n",
              "      <td>Spain</td>\n",
              "      <td>Carodorum Selección Especial Reserva</td>\n",
              "      <td>Ripe aromas of fig, blackberry and cassis are ...</td>\n",
              "    </tr>\n",
              "    <tr>\n",
              "      <th>2</th>\n",
              "      <td>US</td>\n",
              "      <td>Special Selected Late Harvest</td>\n",
              "      <td>Mac Watson honors the memory of a wine once ma...</td>\n",
              "    </tr>\n",
              "    <tr>\n",
              "      <th>4</th>\n",
              "      <td>France</td>\n",
              "      <td>La Brûlade</td>\n",
              "      <td>This is the top wine from La Bégude, named aft...</td>\n",
              "    </tr>\n",
              "    <tr>\n",
              "      <th>7</th>\n",
              "      <td>Spain</td>\n",
              "      <td>Carodorum Único Crianza</td>\n",
              "      <td>Lush cedary black-fruit aromas are luxe and of...</td>\n",
              "    </tr>\n",
              "    <tr>\n",
              "      <th>8</th>\n",
              "      <td>US</td>\n",
              "      <td>Silice</td>\n",
              "      <td>This re-named vineyard was formerly bottled as...</td>\n",
              "    </tr>\n",
              "    <tr>\n",
              "      <th>...</th>\n",
              "      <td>...</td>\n",
              "      <td>...</td>\n",
              "      <td>...</td>\n",
              "    </tr>\n",
              "    <tr>\n",
              "      <th>149452</th>\n",
              "      <td>Portugal</td>\n",
              "      <td>Plus 20-year old tawny</td>\n",
              "      <td>This is a huge, concentrated, dry wine, which ...</td>\n",
              "    </tr>\n",
              "    <tr>\n",
              "      <th>149532</th>\n",
              "      <td>France</td>\n",
              "      <td>Grand Cru Muenchberg</td>\n",
              "      <td>Minty, herbal notes mark the nose, layered ove...</td>\n",
              "    </tr>\n",
              "    <tr>\n",
              "      <th>149538</th>\n",
              "      <td>US</td>\n",
              "      <td>Delaware Dolce</td>\n",
              "      <td>There is plenty of sweet fruit, honey, golden ...</td>\n",
              "    </tr>\n",
              "    <tr>\n",
              "      <th>149624</th>\n",
              "      <td>Portugal</td>\n",
              "      <td>Presidential 20-year old tawny</td>\n",
              "      <td>An easy, fresh, ripe style, with dried fruits ...</td>\n",
              "    </tr>\n",
              "    <tr>\n",
              "      <th>149635</th>\n",
              "      <td>US</td>\n",
              "      <td>Bungalow Red</td>\n",
              "      <td>A Syrah-Grenache blend that's dry and rustical...</td>\n",
              "    </tr>\n",
              "  </tbody>\n",
              "</table>\n",
              "<p>12615 rows × 3 columns</p>\n",
              "</div>"
            ],
            "text/plain": [
              "         country  ...                                        description\n",
              "1          Spain  ...  Ripe aromas of fig, blackberry and cassis are ...\n",
              "2             US  ...  Mac Watson honors the memory of a wine once ma...\n",
              "4         France  ...  This is the top wine from La Bégude, named aft...\n",
              "7          Spain  ...  Lush cedary black-fruit aromas are luxe and of...\n",
              "8             US  ...  This re-named vineyard was formerly bottled as...\n",
              "...          ...  ...                                                ...\n",
              "149452  Portugal  ...  This is a huge, concentrated, dry wine, which ...\n",
              "149532    France  ...  Minty, herbal notes mark the nose, layered ove...\n",
              "149538        US  ...  There is plenty of sweet fruit, honey, golden ...\n",
              "149624  Portugal  ...  An easy, fresh, ripe style, with dried fruits ...\n",
              "149635        US  ...  A Syrah-Grenache blend that's dry and rustical...\n",
              "\n",
              "[12615 rows x 3 columns]"
            ]
          },
          "metadata": {},
          "execution_count": 30
        }
      ]
    },
    {
      "cell_type": "markdown",
      "metadata": {
        "id": "L4mhn8_6r3Ne"
      },
      "source": [
        "The Wine description is useful for knowing the information content of each wine in the data frame that we enter. wine description created with function creation"
      ]
    },
    {
      "cell_type": "code",
      "metadata": {
        "id": "pLYgUFnRqNAf"
      },
      "source": [
        "def print_description(index):\n",
        "    example = dataset[dataset.index == index][['description', 'designation', 'country']].values[0]\n",
        "    if len(example) > 0:\n",
        "        print(example[0])\n",
        "        print('designation:', example[1])\n",
        "        print('country:', example[2])"
      ],
      "execution_count": 31,
      "outputs": []
    },
    {
      "cell_type": "code",
      "metadata": {
        "colab": {
          "base_uri": "https://localhost:8080/"
        },
        "id": "6apkbCtJrF87",
        "outputId": "76cbc0f6-2946-484a-b6ed-a0c8bc4e09af"
      },
      "source": [
        "print_description(12)"
      ],
      "execution_count": 32,
      "outputs": [
        {
          "output_type": "stream",
          "name": "stdout",
          "text": [
            "A standout even in this terrific lineup of 2015 releases from Patricia Green, the Weber opens with a burst of cola and tobacco scents and accents. It continues, subtle and detailed, with flavors of oranges, vanilla, tea and milk chocolate discreetly threaded through ripe blackberry fruit.\n",
            "designation: Weber Vineyard\n",
            "country: US\n"
          ]
        }
      ]
    },
    {
      "cell_type": "markdown",
      "metadata": {
        "id": "YxBp9wpIsRC-"
      },
      "source": [
        "## Text Preprocessing\n",
        "\n",
        "After analyzing and describing the wine, the next process is to do text preprocessing which aims to make the data used later can be processed into numbers with TF-IDF and cosine similarity later. The data that will be used is only the 'description' column because in order to get similarities in the application later."
      ]
    },
    {
      "cell_type": "code",
      "metadata": {
        "id": "7VTPpkj8sOb0"
      },
      "source": [
        "clean_spcl = re.compile('[/(){}\\[\\]\\|@,;]')\n",
        "clean_symbol = re.compile('[^0-9a-z #+_]')\n",
        "stopworda = set(stopwords.words('english'))\n",
        "\n",
        "def clean_text(text):\n",
        "    text = text.lower() # lowercase text\n",
        "    text = clean_spcl.sub(' ', text)\n",
        "    text = clean_symbol.sub('', text)\n",
        "    text = ' '.join(word for word in text.split() if word not in stopworda) # hapus stopword dari kolom deskripsi\n",
        "    return text"
      ],
      "execution_count": 33,
      "outputs": []
    },
    {
      "cell_type": "code",
      "metadata": {
        "id": "ERnffzRptVDN"
      },
      "source": [
        "dataset['desc_clean'] = dataset['description'].apply(clean_text)"
      ],
      "execution_count": 34,
      "outputs": []
    },
    {
      "cell_type": "markdown",
      "metadata": {
        "id": "6tS9XbWoGfA7"
      },
      "source": [
        "## TF-IDF and Cosine Similarity\n",
        "\n",
        "After the data is preprocessed, use the TF-IDF library and cosine similarity so that it can be converted into a number in the form of a matrix"
      ]
    },
    {
      "cell_type": "code",
      "metadata": {
        "colab": {
          "base_uri": "https://localhost:8080/"
        },
        "id": "TpE1PJmWw3_p",
        "outputId": "1b82eefc-3bb4-4cb0-9b9e-2f895665b445"
      },
      "source": [
        "dataset.set_index('designation', inplace=True)\n",
        "tf = TfidfVectorizer(analyzer='word', ngram_range=(1, 3), min_df=0, stop_words='english')\n",
        "tfidf_matrix = tf.fit_transform(dataset['desc_clean'])\n",
        "cos_sim = cosine_similarity(tfidf_matrix, tfidf_matrix)\n",
        "cos_sim"
      ],
      "execution_count": 35,
      "outputs": [
        {
          "output_type": "execute_result",
          "data": {
            "text/plain": [
              "array([[1.00000000e+00, 3.13757120e-03, 1.15394988e-03, ...,\n",
              "        6.71982903e-04, 3.92640816e-03, 2.06468345e-03],\n",
              "       [3.13757120e-03, 1.00000000e+00, 1.44474040e-03, ...,\n",
              "        1.29769330e-03, 0.00000000e+00, 1.19557313e-03],\n",
              "       [1.15394988e-03, 1.44474040e-03, 1.00000000e+00, ...,\n",
              "        2.95202813e-03, 3.24299928e-03, 1.65024707e-03],\n",
              "       ...,\n",
              "       [6.71982903e-04, 1.29769330e-03, 2.95202813e-03, ...,\n",
              "        1.00000000e+00, 0.00000000e+00, 1.48228330e-03],\n",
              "       [3.92640816e-03, 0.00000000e+00, 3.24299928e-03, ...,\n",
              "        0.00000000e+00, 1.00000000e+00, 1.69820557e-03],\n",
              "       [2.06468345e-03, 1.19557313e-03, 1.65024707e-03, ...,\n",
              "        1.48228330e-03, 1.69820557e-03, 1.00000000e+00]])"
            ]
          },
          "metadata": {},
          "execution_count": 35
        }
      ]
    },
    {
      "cell_type": "markdown",
      "metadata": {
        "id": "ytyhpLfXGtwE"
      },
      "source": [
        "Then so that we can predict wine recommendations, create the indicies variable as the main indexing set later. Then try to define the variable indicies."
      ]
    },
    {
      "cell_type": "code",
      "metadata": {
        "colab": {
          "base_uri": "https://localhost:8080/"
        },
        "id": "cF5-Ugsi3nWa",
        "outputId": "933a6f58-1d58-400f-b21a-7d8c3100eae7"
      },
      "source": [
        "# Set index utama di kolom 'name'\n",
        "indices = pd.Series(dataset.index)\n",
        "indices[:50]"
      ],
      "execution_count": 36,
      "outputs": [
        {
          "output_type": "execute_result",
          "data": {
            "text/plain": [
              "0                  Carodorum Selección Especial Reserva\n",
              "1                         Special Selected Late Harvest\n",
              "2                                            La Brûlade\n",
              "3                               Carodorum Único Crianza\n",
              "4                                                Silice\n",
              "5                                    Ronco della Chiesa\n",
              "6                       Estate Vineyard Wadensvil Block\n",
              "7                                        Weber Vineyard\n",
              "8                               Château Montus Prestige\n",
              "9                                6 Años Reserva Premium\n",
              "10                                           Grignolino\n",
              "11                                        Giallo Solare\n",
              "12                                        R-Bar-R Ranch\n",
              "13                                              Abetina\n",
              "14                                             Babushka\n",
              "15                           Nonpareil Trésor Rosé Brut\n",
              "16                      Vigneto Odoardo Beccari Riserva\n",
              "17                                         Les 7 Hommes\n",
              "18                                             L'Inédit\n",
              "19                                              Le Pavé\n",
              "20                                          Final Final\n",
              "21                       Marquês de Marialva Rosé Bruto\n",
              "22                         Château Beauvillain-Monpezat\n",
              "23    Companhia das Lezírias Herdade de Catapereiro ...\n",
              "24                             Terroir Único Pinot Noir\n",
              "25                                 Castle Hill Vineyard\n",
              "26                                         Circumstance\n",
              "27                                          Dulce Tinto\n",
              "28                                 Il est des nôôôtres!\n",
              "29                                     Convento da Vila\n",
              "30                            Charles Vineyard Clone 05\n",
              "31                          Solomon Hills Vineyard Rosé\n",
              "32                                 Methode a l'Ancienne\n",
              "33                                      Arnegui Reserva\n",
              "34                                       Chianta Bianco\n",
              "35                                                  SMC\n",
              "36                                            Rte Blanc\n",
              "37                                      Jespersen Ranch\n",
              "38                                      Axia Malagouzia\n",
              "39    Fina Reserva Ensamblaje Malbec-Cabernet Sauvig...\n",
              "40                                         Il Guardiano\n",
              "41                  Héritages Elevé en Foudres de Chêne\n",
              "42                                           Gran Bajoz\n",
              "43                                              Lot 525\n",
              "44                                             Entwined\n",
              "45                                                Nervo\n",
              "46                            Clos Häuserer Wintzenheim\n",
              "47                                     Domaine Excelcio\n",
              "48                        Pfingstberg Paradis Grand Cru\n",
              "49      Collaboration Series VI Ciel du Cheval Vineyard\n",
              "Name: designation, dtype: object"
            ]
          },
          "metadata": {},
          "execution_count": 36
        }
      ]
    },
    {
      "cell_type": "markdown",
      "metadata": {
        "id": "h4CXvbBLG1k9"
      },
      "source": [
        "## Modelling\n",
        "\n",
        "At the modeling stage, I created a function for the same hotel recommendation according to the results of the TF-IDF and cosine similarity made. The results will be displayed in the form of the 10 closest order to the hotel name that we define."
      ]
    },
    {
      "cell_type": "code",
      "metadata": {
        "id": "oxqlfi6q_1GP"
      },
      "source": [
        "def recommendations(name, cos_sim = cos_sim):\n",
        "    recommended_wine = []\n",
        "    \n",
        "    idx = indices[indices == name].index[0]\n",
        "    score_series = pd.Series(cos_sim[idx]).sort_values(ascending = False)\n",
        "    top_10_indexes = list(score_series.iloc[1:11].index)\n",
        "\n",
        "    for i in top_10_indexes:\n",
        "        name = list(dataset.index)[i]\n",
        "        recommended_wine.append({'Designation':name, 'Country':dataset['country'][name]})\n",
        "\n",
        "    df = pd.DataFrame(recommended_wine)\n",
        "    return df"
      ],
      "execution_count": 69,
      "outputs": []
    },
    {
      "cell_type": "code",
      "metadata": {
        "colab": {
          "base_uri": "https://localhost:8080/",
          "height": 359
        },
        "id": "zhgy4l5JAGO7",
        "outputId": "463b8725-c2f5-4a66-e0ae-0f13fc984f2c"
      },
      "source": [
        "recommendations(\"Lot 525\")"
      ],
      "execution_count": 74,
      "outputs": [
        {
          "output_type": "execute_result",
          "data": {
            "text/html": [
              "<div>\n",
              "<style scoped>\n",
              "    .dataframe tbody tr th:only-of-type {\n",
              "        vertical-align: middle;\n",
              "    }\n",
              "\n",
              "    .dataframe tbody tr th {\n",
              "        vertical-align: top;\n",
              "    }\n",
              "\n",
              "    .dataframe thead th {\n",
              "        text-align: right;\n",
              "    }\n",
              "</style>\n",
              "<table border=\"1\" class=\"dataframe\">\n",
              "  <thead>\n",
              "    <tr style=\"text-align: right;\">\n",
              "      <th></th>\n",
              "      <th>Designation</th>\n",
              "      <th>Country</th>\n",
              "    </tr>\n",
              "  </thead>\n",
              "  <tbody>\n",
              "    <tr>\n",
              "      <th>0</th>\n",
              "      <td>Sophia's Hillside Cuvée</td>\n",
              "      <td>US</td>\n",
              "    </tr>\n",
              "    <tr>\n",
              "      <th>1</th>\n",
              "      <td>Merlo Vineyards</td>\n",
              "      <td>US</td>\n",
              "    </tr>\n",
              "    <tr>\n",
              "      <th>2</th>\n",
              "      <td>Hof Zu Pramol</td>\n",
              "      <td>Italy</td>\n",
              "    </tr>\n",
              "    <tr>\n",
              "      <th>3</th>\n",
              "      <td>La Rose Saint-Vincent</td>\n",
              "      <td>France</td>\n",
              "    </tr>\n",
              "    <tr>\n",
              "      <th>4</th>\n",
              "      <td>Velo Red</td>\n",
              "      <td>US</td>\n",
              "    </tr>\n",
              "    <tr>\n",
              "      <th>5</th>\n",
              "      <td>88 Revel Family Vineyard</td>\n",
              "      <td>US</td>\n",
              "    </tr>\n",
              "    <tr>\n",
              "      <th>6</th>\n",
              "      <td>Periquita Original</td>\n",
              "      <td>Portugal</td>\n",
              "    </tr>\n",
              "    <tr>\n",
              "      <th>7</th>\n",
              "      <td>HMV</td>\n",
              "      <td>US</td>\n",
              "    </tr>\n",
              "    <tr>\n",
              "      <th>8</th>\n",
              "      <td>SP 68</td>\n",
              "      <td>Italy</td>\n",
              "    </tr>\n",
              "    <tr>\n",
              "      <th>9</th>\n",
              "      <td>Cavalli</td>\n",
              "      <td>Italy</td>\n",
              "    </tr>\n",
              "  </tbody>\n",
              "</table>\n",
              "</div>"
            ],
            "text/plain": [
              "                Designation   Country\n",
              "0   Sophia's Hillside Cuvée        US\n",
              "1           Merlo Vineyards        US\n",
              "2             Hof Zu Pramol     Italy\n",
              "3     La Rose Saint-Vincent    France\n",
              "4                  Velo Red        US\n",
              "5  88 Revel Family Vineyard        US\n",
              "6        Periquita Original  Portugal\n",
              "7                       HMV        US\n",
              "8                     SP 68     Italy\n",
              "9                   Cavalli     Italy"
            ]
          },
          "metadata": {},
          "execution_count": 74
        }
      ]
    }
  ]
}